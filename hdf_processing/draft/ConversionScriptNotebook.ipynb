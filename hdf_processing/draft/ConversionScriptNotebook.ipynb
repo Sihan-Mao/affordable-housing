{
 "cells": [
  {
   "cell_type": "markdown",
   "metadata": {},
   "source": [
    "# Converting MAIAC HDF files to Geotiff \n",
    "\n",
    "Here we will go through a process to convert MAIAC hdf files to Geotiffs which can easily be read in and analyzed using R Studio. "
   ]
  },
  {
   "cell_type": "markdown",
   "metadata": {},
   "source": [
    "## Obtaining the MAIAC Data\n",
    "MAIAC data is available from a number of sources online. We obtained the files using the [DAAC2Disk Web Tool](https://lpdaac.usgs.gov/tools/data_access/daac2disk_web), as it provided a way to intantly request and download multiple years' worth of MAIAC data instantly, rather than having to wait until a request is processed for up to a week as with Earthdata. Chicago is located in the MAIAC Sinusoidal tile (H04,V11). This script was executed on a folder containing all MAIAC files for that tile from 2016 and took around ten minutes to convert 2. "
   ]
  },
  {
   "cell_type": "markdown",
   "metadata": {},
   "source": [
    "## Conversion Function\n",
    "This function converts the MAIAC hdf to a Geotiff file. In the filename line, it assumes standard MAIAC file naming conventions. It extracts only the Optical Depth 47 subdataset from a given HDF, but it can be easily modified to do the same with the quality assurance subdataset or create a multi-band Geotiff consisiting of all MAIAC layers. "
   ]
  },
  {
   "cell_type": "code",
   "execution_count": 3,
   "metadata": {},
   "outputs": [
    {
     "name": "stderr",
     "output_type": "stream",
     "text": [
      "Warning message:\n",
      "“package ‘RCurl’ was built under R version 3.4.4”Loading required package: bitops\n",
      "Warning message:\n",
      "“package ‘gdalUtils’ was built under R version 3.4.4”Warning message:\n",
      "“package ‘rgdal’ was built under R version 3.4.4”Loading required package: sp\n",
      "rgdal: version: 1.3-4, (SVN revision 766)\n",
      " Geospatial Data Abstraction Library extensions to R successfully loaded\n",
      " Loaded GDAL runtime: GDAL 2.1.3, released 2017/20/01\n",
      " Path to GDAL shared files: /Users/isaackamber/Library/R/3.4/library/rgdal/gdal\n",
      " GDAL binary built with GEOS: FALSE \n",
      " Loaded PROJ.4 runtime: Rel. 4.9.3, 15 August 2016, [PJ_VERSION: 493]\n",
      " Path to PROJ.4 shared files: /Users/isaackamber/Library/R/3.4/library/rgdal/proj\n",
      " Linking to sp version: 1.3-1 \n",
      "Warning message:\n",
      "“package ‘rts’ was built under R version 3.4.4”Loading required package: raster\n",
      "Loading required package: xts\n",
      "Warning message:\n",
      "“package ‘xts’ was built under R version 3.4.4”Loading required package: zoo\n",
      "\n",
      "Attaching package: ‘zoo’\n",
      "\n",
      "The following objects are masked from ‘package:base’:\n",
      "\n",
      "    as.Date, as.Date.numeric\n",
      "\n",
      "rts 1.0-45 (2018-03-17)\n",
      "\n",
      "Attaching package: ‘dplyr’\n",
      "\n",
      "The following objects are masked from ‘package:xts’:\n",
      "\n",
      "    first, last\n",
      "\n",
      "The following objects are masked from ‘package:raster’:\n",
      "\n",
      "    intersect, select, union\n",
      "\n",
      "The following objects are masked from ‘package:stats’:\n",
      "\n",
      "    filter, lag\n",
      "\n",
      "The following objects are masked from ‘package:base’:\n",
      "\n",
      "    intersect, setdiff, setequal, union\n",
      "\n"
     ]
    }
   ],
   "source": [
    "library(RCurl)\n",
    "library(gdalUtils)\n",
    "library(rgdal)\n",
    "library(rts)\n",
    "library(raster)\n",
    "library(dplyr)\n",
    "library(MODIStsp)\n",
    "\n",
    "#Function to convert HDF to Geotiff (Run in Terminal or Jupyter Notebook, NOT RStudio)\n",
    "HDF_to_GEOTIFF <- function (h) {\n",
    "  hdf.file <- list.files(pattern = h, full.names = TRUE)\n",
    "  \n",
    "  sds <- get_subdatasets(hdf.file)\n",
    "  \n",
    "  #Choose the file you want to work with (Optical Depth 47)\n",
    "  hdf.sub <- sds[1]\n",
    "  hdf.sub\n",
    "  #Creates a temporary outfile name\n",
    "  tempname <- rasterTmpFile()  \n",
    "  \n",
    "  #Converts the hdf subdataset to a tif file. Returns NULL which is ok\n",
    "  gdal_translate(hdf.sub, dst_dataset = tempname) \n",
    "  modis.r <- raster(tempname)\n",
    "  \n",
    "  wd <- getwd()\n",
    "    \n",
    "  filename = substr(hdf.sub,19,59)\n",
    "  outname = paste(wd,filename, sep = \"/\") #Creates the path and file name for the output geotif. Change \"wd\" to path of output folder if different than working directory\"\n",
    "  writeRaster(modis.r, filename = outname, format = \"GTiff\", overwrite = TRUE)\n",
    "}"
   ]
  },
  {
   "cell_type": "markdown",
   "metadata": {},
   "source": [
    "## Getting List of Files to Convert\n",
    "The hdfs that will be converted are located in a folder \"2016 Chicago MAIAC Data\". That line can be modified based on the location of the files that are to be converted. Here, we see that there are 357 MAIAC hfds in that folder that we will soon convert."
   ]
  },
  {
   "cell_type": "code",
   "execution_count": 16,
   "metadata": {},
   "outputs": [
    {
     "data": {
      "text/plain": [
       "   Length     Class      Mode \n",
       "      357 character character "
      ]
     },
     "metadata": {},
     "output_type": "display_data"
    },
    {
     "data": {
      "text/html": [
       "<ol class=list-inline>\n",
       "\t<li>'MCD19A2.A2016002.h11v04.006.2018108081553.hdf'</li>\n",
       "\t<li>'MCD19A2.A2016003.h11v04.006.2018108081554.hdf'</li>\n",
       "\t<li>'MCD19A2.A2016004.h11v04.006.2018108081555.hdf'</li>\n",
       "\t<li>'MCD19A2.A2016005.h11v04.006.2018108081556.hdf'</li>\n",
       "\t<li>'MCD19A2.A2016006.h11v04.006.2018108081557.hdf'</li>\n",
       "\t<li>'MCD19A2.A2016007.h11v04.006.2018108081559.hdf'</li>\n",
       "</ol>\n"
      ],
      "text/latex": [
       "\\begin{enumerate*}\n",
       "\\item 'MCD19A2.A2016002.h11v04.006.2018108081553.hdf'\n",
       "\\item 'MCD19A2.A2016003.h11v04.006.2018108081554.hdf'\n",
       "\\item 'MCD19A2.A2016004.h11v04.006.2018108081555.hdf'\n",
       "\\item 'MCD19A2.A2016005.h11v04.006.2018108081556.hdf'\n",
       "\\item 'MCD19A2.A2016006.h11v04.006.2018108081557.hdf'\n",
       "\\item 'MCD19A2.A2016007.h11v04.006.2018108081559.hdf'\n",
       "\\end{enumerate*}\n"
      ],
      "text/markdown": [
       "1. 'MCD19A2.A2016002.h11v04.006.2018108081553.hdf'\n",
       "2. 'MCD19A2.A2016003.h11v04.006.2018108081554.hdf'\n",
       "3. 'MCD19A2.A2016004.h11v04.006.2018108081555.hdf'\n",
       "4. 'MCD19A2.A2016005.h11v04.006.2018108081556.hdf'\n",
       "5. 'MCD19A2.A2016006.h11v04.006.2018108081557.hdf'\n",
       "6. 'MCD19A2.A2016007.h11v04.006.2018108081559.hdf'\n",
       "\n",
       "\n"
      ],
      "text/plain": [
       "[1] \"MCD19A2.A2016002.h11v04.006.2018108081553.hdf\"\n",
       "[2] \"MCD19A2.A2016003.h11v04.006.2018108081554.hdf\"\n",
       "[3] \"MCD19A2.A2016004.h11v04.006.2018108081555.hdf\"\n",
       "[4] \"MCD19A2.A2016005.h11v04.006.2018108081556.hdf\"\n",
       "[5] \"MCD19A2.A2016006.h11v04.006.2018108081557.hdf\"\n",
       "[6] \"MCD19A2.A2016007.h11v04.006.2018108081559.hdf\""
      ]
     },
     "metadata": {},
     "output_type": "display_data"
    }
   ],
   "source": [
    "#Get list of hdfs to convert\n",
    "files <- list.files(path = \"2016 Chicago MAIAC Data\", pattern = \"hdf\")\n",
    "#Get number of files in folder and view file names\n",
    "summary(files)\n",
    "head(files)"
   ]
  },
  {
   "cell_type": "markdown",
   "metadata": {},
   "source": [
    "## Convert the Files"
   ]
  },
  {
   "cell_type": "code",
   "execution_count": 17,
   "metadata": {},
   "outputs": [],
   "source": [
    "for (i in 1:length(files)) {\n",
    "  HDF_to_GEOTIFF(files[i])\n",
    "}"
   ]
  }
 ],
 "metadata": {
  "kernelspec": {
   "display_name": "R",
   "language": "R",
   "name": "ir"
  },
  "language_info": {
   "codemirror_mode": "r",
   "file_extension": ".r",
   "mimetype": "text/x-r-source",
   "name": "R",
   "pygments_lexer": "r",
   "version": "3.4.3"
  }
 },
 "nbformat": 4,
 "nbformat_minor": 2
}
